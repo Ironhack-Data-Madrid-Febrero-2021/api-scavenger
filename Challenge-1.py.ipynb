{
 "cells": [
  {
   "cell_type": "markdown",
   "metadata": {},
   "source": [
    "1. Obtain the full list of forks created from the main lab repo via Github API.\n",
    "\n",
    "1. Loop the JSON response to find out the `language` attribute of each fork. Use an array to store the `language` attributes of each fork.\n",
    "    * *Hint: Each language should appear only once in your array.*\n",
    "\n",
    "1. Print the language array. It should be something like:\n",
    "\n",
    "\t```[\"Python\", \"Jupyter Notebook\", \"HTML\"]```\n"
   ]
  },
  {
   "cell_type": "code",
   "execution_count": null,
   "metadata": {},
   "outputs": [],
   "source": [
    "!pip3 install python-dotenv"
   ]
  },
  {
   "cell_type": "code",
   "execution_count": 10,
   "metadata": {},
   "outputs": [],
   "source": [
    "import os\n",
    "from dotenv import load_dotenv\n",
    "load_dotenv()\n",
    "import requests\n",
    "\n",
    "url = \"https://api.github.com/ironhack-datalabs/datamad1020-rev\"\n",
    "api_key = os.getenv(\"token\")\n",
    "\n",
    "def requestGitHub(url):\n",
    "    token = os.getenv(\"token\")\n",
    "    if not token:\n",
    "        raise ValueError(\"Necesitas un token\")\n",
    "    print(f\"Haciendo request a {url}\")\n",
    "    \n",
    "    params = {\"Authorization\":f\"token{api_key}\"}\n",
    "    response = requests.get(url=url, params=parameters). json()"
   ]
  },
  {
   "cell_type": "code",
   "execution_count": 16,
   "metadata": {},
   "outputs": [],
   "source": [
    "url_2 = \"https://api.github.com/repos/ironhack-datalabs/datamad1020-rev/forks\"\n",
    "response = requests.get(url_2).json()"
   ]
  },
  {
   "cell_type": "code",
   "execution_count": 25,
   "metadata": {},
   "outputs": [],
   "source": [
    "language = [elemento[\"languages_url\"] for elemento in response]"
   ]
  },
  {
   "cell_type": "code",
   "execution_count": 31,
   "metadata": {},
   "outputs": [],
   "source": [
    "url_3 = \"https://api.github.com/repos/ironhack-datalabs/datamad1020-rev/languages\"\n",
    "response_2 = requests.get(url_3).json()"
   ]
  },
  {
   "cell_type": "code",
   "execution_count": 32,
   "metadata": {},
   "outputs": [
    {
     "data": {
      "text/plain": [
       "{'Jupyter Notebook': 767922, 'HTML': 498316, 'Python': 38591}"
      ]
     },
     "execution_count": 32,
     "metadata": {},
     "output_type": "execute_result"
    }
   ],
   "source": [
    "response_2"
   ]
  },
  {
   "cell_type": "code",
   "execution_count": 33,
   "metadata": {},
   "outputs": [
    {
     "data": {
      "text/plain": [
       "{'HTML', 'Jupyter Notebook', 'Python'}"
      ]
     },
     "execution_count": 33,
     "metadata": {},
     "output_type": "execute_result"
    }
   ],
   "source": [
    "set(response_2)"
   ]
  }
 ],
 "metadata": {
  "kernelspec": {
   "display_name": "Python 3",
   "language": "python",
   "name": "python3"
  },
  "language_info": {
   "codemirror_mode": {
    "name": "ipython",
    "version": 3
   },
   "file_extension": ".py",
   "mimetype": "text/x-python",
   "name": "python",
   "nbconvert_exporter": "python",
   "pygments_lexer": "ipython3",
   "version": "3.8.5"
  }
 },
 "nbformat": 4,
 "nbformat_minor": 4
}
