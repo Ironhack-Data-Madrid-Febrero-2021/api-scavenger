{
 "cells": [
  {
   "cell_type": "code",
   "execution_count": 3,
   "metadata": {},
   "outputs": [
    {
     "data": {
      "text/plain": [
       "True"
      ]
     },
     "execution_count": 3,
     "metadata": {},
     "output_type": "execute_result"
    }
   ],
   "source": [
    "import requests\n",
    "import os\n",
    "from dotenv import load_dotenv\n",
    "load_dotenv()"
   ]
  },
  {
   "cell_type": "code",
   "execution_count": 4,
   "metadata": {},
   "outputs": [],
   "source": [
    "# Geting token from .env saved in Visual Code\n",
    "token = os.getenv('token')\n",
    "\n",
    "# Setting parameters\n",
    "parameters = {'Autorization' : f'token {token}'}"
   ]
  },
  {
   "cell_type": "code",
   "execution_count": 12,
   "metadata": {},
   "outputs": [
    {
     "data": {
      "text/plain": [
       "['https://github.com/ironhack-datalabs/scavenger/blob/master/.gitignore',\n",
       " 'https://github.com/ironhack-datalabs/scavenger/tree/master/15024',\n",
       " 'https://github.com/ironhack-datalabs/scavenger/tree/master/15534',\n",
       " 'https://github.com/ironhack-datalabs/scavenger/tree/master/17020',\n",
       " 'https://github.com/ironhack-datalabs/scavenger/tree/master/30351',\n",
       " 'https://github.com/ironhack-datalabs/scavenger/tree/master/40303',\n",
       " 'https://github.com/ironhack-datalabs/scavenger/tree/master/44639',\n",
       " 'https://github.com/ironhack-datalabs/scavenger/tree/master/45525',\n",
       " 'https://github.com/ironhack-datalabs/scavenger/tree/master/47222',\n",
       " 'https://github.com/ironhack-datalabs/scavenger/tree/master/47830',\n",
       " 'https://github.com/ironhack-datalabs/scavenger/tree/master/49418',\n",
       " 'https://github.com/ironhack-datalabs/scavenger/tree/master/50896',\n",
       " 'https://github.com/ironhack-datalabs/scavenger/tree/master/55417',\n",
       " 'https://github.com/ironhack-datalabs/scavenger/tree/master/55685',\n",
       " 'https://github.com/ironhack-datalabs/scavenger/tree/master/60224',\n",
       " 'https://github.com/ironhack-datalabs/scavenger/tree/master/64880',\n",
       " 'https://github.com/ironhack-datalabs/scavenger/tree/master/66032',\n",
       " 'https://github.com/ironhack-datalabs/scavenger/tree/master/68848',\n",
       " 'https://github.com/ironhack-datalabs/scavenger/tree/master/70751',\n",
       " 'https://github.com/ironhack-datalabs/scavenger/tree/master/70985',\n",
       " 'https://github.com/ironhack-datalabs/scavenger/tree/master/88596',\n",
       " 'https://github.com/ironhack-datalabs/scavenger/tree/master/89046',\n",
       " 'https://github.com/ironhack-datalabs/scavenger/tree/master/89338',\n",
       " 'https://github.com/ironhack-datalabs/scavenger/tree/master/91701',\n",
       " 'https://github.com/ironhack-datalabs/scavenger/tree/master/97881',\n",
       " 'https://github.com/ironhack-datalabs/scavenger/tree/master/98750']"
      ]
     },
     "execution_count": 12,
     "metadata": {},
     "output_type": "execute_result"
    }
   ],
   "source": [
    "url = 'https://api.github.com/repos/ironhack-datalabs/scavenger/contents'\n",
    "response = requests.get(url = url, params = parameters).json()\n",
    "urls = [x['html_url'] for x in response]\n",
    "urls = 'https://api.github.com/repos/ironhack-datalabs/scavenger/contents'\n",
    "newurl = "
   ]
  },
  {
   "cell_type": "code",
   "execution_count": null,
   "metadata": {},
   "outputs": [],
   "source": []
  }
 ],
 "metadata": {
  "kernelspec": {
   "display_name": "Python 3",
   "language": "python",
   "name": "python3"
  },
  "language_info": {
   "codemirror_mode": {
    "name": "ipython",
    "version": 3
   },
   "file_extension": ".py",
   "mimetype": "text/x-python",
   "name": "python",
   "nbconvert_exporter": "python",
   "pygments_lexer": "ipython3",
   "version": "3.6.3"
  }
 },
 "nbformat": 4,
 "nbformat_minor": 4
}
