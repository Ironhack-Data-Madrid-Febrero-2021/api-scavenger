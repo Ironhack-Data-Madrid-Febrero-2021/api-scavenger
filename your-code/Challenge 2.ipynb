{
 "cells": [
  {
   "cell_type": "code",
   "execution_count": 69,
   "metadata": {},
   "outputs": [],
   "source": [
    "import requests\n",
    "import os\n",
    "from dotenv import load_dotenv\n",
    "load_dotenv()\n",
    "from datetime import timedelta\n",
    "from datetime import datetime"
   ]
  },
  {
   "cell_type": "code",
   "execution_count": 9,
   "metadata": {},
   "outputs": [],
   "source": [
    "api_key = os.getenv(\"token\")"
   ]
  },
  {
   "cell_type": "code",
   "execution_count": 52,
   "metadata": {},
   "outputs": [],
   "source": [
    "parameters = {\"Auhorization\" : f\"token {api_key}\"}"
   ]
  },
  {
   "cell_type": "markdown",
   "metadata": {},
   "source": [
    "URL =   /repos/     {owner}/      {repo}/       commits\n",
    "\n",
    "/repos/ =   api.github.com/repos\n",
    "\n",
    "{owner}/ =   ironhack-datalabs/\n",
    "\n",
    "{repo}/ =   datamad1020-rev/\n",
    "\n",
    "commits"
   ]
  },
  {
   "cell_type": "code",
   "execution_count": 56,
   "metadata": {},
   "outputs": [],
   "source": [
    "url_commit = \"https://api.github.com/repos/ironhack-datalabs/datamad1020-rev/commits\""
   ]
  },
  {
   "cell_type": "code",
   "execution_count": 70,
   "metadata": {},
   "outputs": [],
   "source": [
    "def requestcommit(url):\n",
    "    token = os.getenv('token')\n",
    "    if not token:\n",
    "        raise ValueError ('Necesitas un token')\n",
    "    print (f'Haciendo request a {url}')\n",
    "    \n",
    "    params = {'Authorization' : f'token {api_key}'}\n",
    "    response = requests.get( url = url, params = params).json()\n",
    "    \n",
    "    return response"
   ]
  },
  {
   "cell_type": "code",
   "execution_count": 71,
   "metadata": {},
   "outputs": [
    {
     "name": "stdout",
     "output_type": "stream",
     "text": [
      "Haciendo request a https://api.github.com/repos/ironhack-datalabs/datamad1020-rev/commits\n"
     ]
    },
    {
     "data": {
      "text/plain": [
       "{'sha': 'c7210b1bc673ccf7e98b420d1ef614afa70c199b',\n",
       " 'node_id': 'MDY6Q29tbWl0MzA0MjQ4NTM5OmM3MjEwYjFiYzY3M2NjZjdlOThiNDIwZDFlZjYxNGFmYTcwYzE5OWI=',\n",
       " 'commit': {'author': {'name': 'sheriffff',\n",
       "   'email': 'manuel.lopez.sheriff@gmail.com',\n",
       "   'date': '2020-11-05T23:04:53Z'},\n",
       "  'committer': {'name': 'sheriffff',\n",
       "   'email': 'manuel.lopez.sheriff@gmail.com',\n",
       "   'date': '2020-11-05T23:04:53Z'},\n",
       "  'message': 'scraping lab',\n",
       "  'tree': {'sha': '5e9806f23f44c85cf5fc0ef3913490cee471246c',\n",
       "   'url': 'https://api.github.com/repos/ironhack-datalabs/datamad1020-rev/git/trees/5e9806f23f44c85cf5fc0ef3913490cee471246c'},\n",
       "  'url': 'https://api.github.com/repos/ironhack-datalabs/datamad1020-rev/git/commits/c7210b1bc673ccf7e98b420d1ef614afa70c199b',\n",
       "  'comment_count': 0,\n",
       "  'verification': {'verified': False,\n",
       "   'reason': 'unsigned',\n",
       "   'signature': None,\n",
       "   'payload': None}},\n",
       " 'url': 'https://api.github.com/repos/ironhack-datalabs/datamad1020-rev/commits/c7210b1bc673ccf7e98b420d1ef614afa70c199b',\n",
       " 'html_url': 'https://github.com/ironhack-datalabs/datamad1020-rev/commit/c7210b1bc673ccf7e98b420d1ef614afa70c199b',\n",
       " 'comments_url': 'https://api.github.com/repos/ironhack-datalabs/datamad1020-rev/commits/c7210b1bc673ccf7e98b420d1ef614afa70c199b/comments',\n",
       " 'author': {'login': 'sheriffff',\n",
       "  'id': 23318929,\n",
       "  'node_id': 'MDQ6VXNlcjIzMzE4OTI5',\n",
       "  'avatar_url': 'https://avatars.githubusercontent.com/u/23318929?v=4',\n",
       "  'gravatar_id': '',\n",
       "  'url': 'https://api.github.com/users/sheriffff',\n",
       "  'html_url': 'https://github.com/sheriffff',\n",
       "  'followers_url': 'https://api.github.com/users/sheriffff/followers',\n",
       "  'following_url': 'https://api.github.com/users/sheriffff/following{/other_user}',\n",
       "  'gists_url': 'https://api.github.com/users/sheriffff/gists{/gist_id}',\n",
       "  'starred_url': 'https://api.github.com/users/sheriffff/starred{/owner}{/repo}',\n",
       "  'subscriptions_url': 'https://api.github.com/users/sheriffff/subscriptions',\n",
       "  'organizations_url': 'https://api.github.com/users/sheriffff/orgs',\n",
       "  'repos_url': 'https://api.github.com/users/sheriffff/repos',\n",
       "  'events_url': 'https://api.github.com/users/sheriffff/events{/privacy}',\n",
       "  'received_events_url': 'https://api.github.com/users/sheriffff/received_events',\n",
       "  'type': 'User',\n",
       "  'site_admin': False},\n",
       " 'committer': {'login': 'sheriffff',\n",
       "  'id': 23318929,\n",
       "  'node_id': 'MDQ6VXNlcjIzMzE4OTI5',\n",
       "  'avatar_url': 'https://avatars.githubusercontent.com/u/23318929?v=4',\n",
       "  'gravatar_id': '',\n",
       "  'url': 'https://api.github.com/users/sheriffff',\n",
       "  'html_url': 'https://github.com/sheriffff',\n",
       "  'followers_url': 'https://api.github.com/users/sheriffff/followers',\n",
       "  'following_url': 'https://api.github.com/users/sheriffff/following{/other_user}',\n",
       "  'gists_url': 'https://api.github.com/users/sheriffff/gists{/gist_id}',\n",
       "  'starred_url': 'https://api.github.com/users/sheriffff/starred{/owner}{/repo}',\n",
       "  'subscriptions_url': 'https://api.github.com/users/sheriffff/subscriptions',\n",
       "  'organizations_url': 'https://api.github.com/users/sheriffff/orgs',\n",
       "  'repos_url': 'https://api.github.com/users/sheriffff/repos',\n",
       "  'events_url': 'https://api.github.com/users/sheriffff/events{/privacy}',\n",
       "  'received_events_url': 'https://api.github.com/users/sheriffff/received_events',\n",
       "  'type': 'User',\n",
       "  'site_admin': False},\n",
       " 'parents': [{'sha': 'c25a3c01ae2d6d4c6515e0f9190aab6e56a5f140',\n",
       "   'url': 'https://api.github.com/repos/ironhack-datalabs/datamad1020-rev/commits/c25a3c01ae2d6d4c6515e0f9190aab6e56a5f140',\n",
       "   'html_url': 'https://github.com/ironhack-datalabs/datamad1020-rev/commit/c25a3c01ae2d6d4c6515e0f9190aab6e56a5f140'}]}"
      ]
     },
     "execution_count": 71,
     "metadata": {},
     "output_type": "execute_result"
    }
   ],
   "source": [
    "respuesta = requestcommit(url_commit)\n",
    "respuesta[15]"
   ]
  },
  {
   "cell_type": "code",
   "execution_count": 59,
   "metadata": {},
   "outputs": [
    {
     "data": {
      "text/plain": [
       "{'author': {'name': 'Ras Soyungalgo',\n",
       "  'email': 'agalvezcorell@gmail.com',\n",
       "  'date': '2021-03-24T18:55:39Z'},\n",
       " 'committer': {'name': 'Ras Soyungalgo',\n",
       "  'email': 'agalvezcorell@gmail.com',\n",
       "  'date': '2021-03-24T18:55:39Z'},\n",
       " 'message': 'Hola datamad Part Time ♥️',\n",
       " 'tree': {'sha': '872b8a740d18c3a9abe469f1df7a7c4b26016c48',\n",
       "  'url': 'https://api.github.com/repos/ironhack-datalabs/datamad1020-rev/git/trees/872b8a740d18c3a9abe469f1df7a7c4b26016c48'},\n",
       " 'url': 'https://api.github.com/repos/ironhack-datalabs/datamad1020-rev/git/commits/04bc51c0a75f3e6604fe7ac41da8b3c69919f7c3',\n",
       " 'comment_count': 0,\n",
       " 'verification': {'verified': False,\n",
       "  'reason': 'unsigned',\n",
       "  'signature': None,\n",
       "  'payload': None}}"
      ]
     },
     "execution_count": 59,
     "metadata": {},
     "output_type": "execute_result"
    }
   ],
   "source": [
    "respuesta[0]['commit']"
   ]
  },
  {
   "cell_type": "code",
   "execution_count": 72,
   "metadata": {},
   "outputs": [
    {
     "data": {
      "text/plain": [
       "30"
      ]
     },
     "execution_count": 72,
     "metadata": {},
     "output_type": "execute_result"
    }
   ],
   "source": [
    "len(respuesta)"
   ]
  },
  {
   "cell_type": "code",
   "execution_count": null,
   "metadata": {},
   "outputs": [],
   "source": []
  },
  {
   "cell_type": "code",
   "execution_count": null,
   "metadata": {},
   "outputs": [],
   "source": []
  }
 ],
 "metadata": {
  "kernelspec": {
   "display_name": "Python 3",
   "language": "python",
   "name": "python3"
  },
  "language_info": {
   "codemirror_mode": {
    "name": "ipython",
    "version": 3
   },
   "file_extension": ".py",
   "mimetype": "text/x-python",
   "name": "python",
   "nbconvert_exporter": "python",
   "pygments_lexer": "ipython3",
   "version": "3.8.5"
  }
 },
 "nbformat": 4,
 "nbformat_minor": 4
}
