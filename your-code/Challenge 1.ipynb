{
 "cells": [
  {
   "cell_type": "code",
   "execution_count": 23,
   "metadata": {},
   "outputs": [
    {
     "data": {
      "text/plain": [
       "True"
      ]
     },
     "execution_count": 23,
     "metadata": {},
     "output_type": "execute_result"
    }
   ],
   "source": [
    "import requests\n",
    "import os\n",
    "from dotenv import load_dotenv\n",
    "load_dotenv()"
   ]
  },
  {
   "cell_type": "code",
   "execution_count": 24,
   "metadata": {},
   "outputs": [],
   "source": [
    "api_key = os.getenv(\"token\")"
   ]
  },
  {
   "cell_type": "markdown",
   "metadata": {},
   "source": [
    "URL =   /repos/     {owner}/      {repo}/       forks\n",
    "\n",
    "/repos/ =   api.github.com/repos\n",
    "\n",
    "{owner}/ =   ironhack-datalabs/\n",
    "\n",
    "{repo}/ =   datamad1020-rev/\n",
    "\n",
    "forks"
   ]
  },
  {
   "cell_type": "code",
   "execution_count": 25,
   "metadata": {},
   "outputs": [],
   "source": [
    "url = \"https://api.github.com/repos/ironhack-datalabs/datamad1020-rev/forks\""
   ]
  },
  {
   "cell_type": "code",
   "execution_count": 26,
   "metadata": {},
   "outputs": [],
   "source": [
    "parameters = {\"Auhorization\" : f\"token {api_key}\"}"
   ]
  },
  {
   "cell_type": "code",
   "execution_count": 27,
   "metadata": {},
   "outputs": [
    {
     "data": {
      "text/plain": [
       "'acamposla/datamad1020-rev'"
      ]
     },
     "execution_count": 27,
     "metadata": {},
     "output_type": "execute_result"
    }
   ],
   "source": [
    "response = requests.get(url=url, params = parameters).json()\n",
    "response[0]['full_name']"
   ]
  },
  {
   "cell_type": "code",
   "execution_count": 28,
   "metadata": {},
   "outputs": [
    {
     "data": {
      "text/plain": [
       "list"
      ]
     },
     "execution_count": 28,
     "metadata": {},
     "output_type": "execute_result"
    }
   ],
   "source": [
    "type(response)"
   ]
  },
  {
   "cell_type": "code",
   "execution_count": 30,
   "metadata": {},
   "outputs": [
    {
     "data": {
      "text/plain": [
       "dict_keys(['id', 'node_id', 'name', 'full_name', 'private', 'owner', 'html_url', 'description', 'fork', 'url', 'forks_url', 'keys_url', 'collaborators_url', 'teams_url', 'hooks_url', 'issue_events_url', 'events_url', 'assignees_url', 'branches_url', 'tags_url', 'blobs_url', 'git_tags_url', 'git_refs_url', 'trees_url', 'statuses_url', 'languages_url', 'stargazers_url', 'contributors_url', 'subscribers_url', 'subscription_url', 'commits_url', 'git_commits_url', 'comments_url', 'issue_comment_url', 'contents_url', 'compare_url', 'merges_url', 'archive_url', 'downloads_url', 'issues_url', 'pulls_url', 'milestones_url', 'notifications_url', 'labels_url', 'releases_url', 'deployments_url', 'created_at', 'updated_at', 'pushed_at', 'git_url', 'ssh_url', 'clone_url', 'svn_url', 'homepage', 'size', 'stargazers_count', 'watchers_count', 'language', 'has_issues', 'has_projects', 'has_downloads', 'has_wiki', 'has_pages', 'forks_count', 'mirror_url', 'archived', 'disabled', 'open_issues_count', 'license', 'forks', 'open_issues', 'watchers', 'default_branch'])"
      ]
     },
     "execution_count": 30,
     "metadata": {},
     "output_type": "execute_result"
    }
   ],
   "source": [
    "response[0].keys()"
   ]
  },
  {
   "cell_type": "code",
   "execution_count": 14,
   "metadata": {},
   "outputs": [
    {
     "data": {
      "text/plain": [
       "['acamposla/datamad1020-rev',\n",
       " 'PaolaKarina/datamad1020-rev',\n",
       " 'VictorRodriguezIronhack/datamad1020-rev',\n",
       " 'sonia-quintanar/datamad1020-rev',\n",
       " 'jperezllorente/datamad1020-rev',\n",
       " 'AnaMA96/datamad1020-rev',\n",
       " 'breogann/datamad1020-rev',\n",
       " 'rafadedubra/datamad1020-rev',\n",
       " 'Nuria-Pe/datamad1020-rev',\n",
       " 'SergioCaler0/datamad1020-rev',\n",
       " 'LucianaLescano/datamad1020-rev',\n",
       " 'Mario-Sainz/datamad1020-rev',\n",
       " 'juanmarin00/datamad1020-rev',\n",
       " 'JoseManuel-G/datamad1020-rev',\n",
       " 'jesus-perez-366/datamad1020-rev',\n",
       " 'sgonzalainen/datamad1020-rev',\n",
       " 'Pptrv/datamad1020-rev',\n",
       " 'Marxess/datamad1020-rev',\n",
       " 'patri-carrasco/datamad1020-rev',\n",
       " 'BlueJotas/datamad1020-rev',\n",
       " 'jvazquezgalvezlp/datamad1020-rev',\n",
       " 'leticia-sobrino/datamad1020-rev',\n",
       " 'JaimeCalcedo/datamad1020-rev']"
      ]
     },
     "execution_count": 14,
     "metadata": {},
     "output_type": "execute_result"
    }
   ],
   "source": [
    "names = [name['full_name'] for name in response]\n",
    "names"
   ]
  },
  {
   "cell_type": "code",
   "execution_count": 15,
   "metadata": {},
   "outputs": [],
   "source": [
    "def requestforks(url):\n",
    "    token = os.getenv('token')\n",
    "    if not token:\n",
    "        raise ValueError ('Necesitas un token')\n",
    "    print (f'Haciendo request a {url}')\n",
    "    \n",
    "    params = {'Authorization' : f'token {api_key}'}\n",
    "    response = requests.get( url = url, params = params).json()\n",
    "    \n",
    "    return response"
   ]
  },
  {
   "cell_type": "code",
   "execution_count": 16,
   "metadata": {},
   "outputs": [],
   "source": [
    "url_forks = \"https://api.github.com/repos/ironhack-datalabs/datamad1020-rev/forks\""
   ]
  },
  {
   "cell_type": "code",
   "execution_count": 17,
   "metadata": {},
   "outputs": [
    {
     "name": "stdout",
     "output_type": "stream",
     "text": [
      "Haciendo request a https://api.github.com/repos/ironhack-datalabs/datamad1020-rev/forks\n"
     ]
    },
    {
     "data": {
      "text/plain": [
       "{'id': 305395501,\n",
       " 'node_id': 'MDEwOlJlcG9zaXRvcnkzMDUzOTU1MDE=',\n",
       " 'name': 'datamad1020-rev',\n",
       " 'full_name': 'sgonzalainen/datamad1020-rev',\n",
       " 'private': False,\n",
       " 'owner': {'login': 'sgonzalainen',\n",
       "  'id': 68953494,\n",
       "  'node_id': 'MDQ6VXNlcjY4OTUzNDk0',\n",
       "  'avatar_url': 'https://avatars.githubusercontent.com/u/68953494?v=4',\n",
       "  'gravatar_id': '',\n",
       "  'url': 'https://api.github.com/users/sgonzalainen',\n",
       "  'html_url': 'https://github.com/sgonzalainen',\n",
       "  'followers_url': 'https://api.github.com/users/sgonzalainen/followers',\n",
       "  'following_url': 'https://api.github.com/users/sgonzalainen/following{/other_user}',\n",
       "  'gists_url': 'https://api.github.com/users/sgonzalainen/gists{/gist_id}',\n",
       "  'starred_url': 'https://api.github.com/users/sgonzalainen/starred{/owner}{/repo}',\n",
       "  'subscriptions_url': 'https://api.github.com/users/sgonzalainen/subscriptions',\n",
       "  'organizations_url': 'https://api.github.com/users/sgonzalainen/orgs',\n",
       "  'repos_url': 'https://api.github.com/users/sgonzalainen/repos',\n",
       "  'events_url': 'https://api.github.com/users/sgonzalainen/events{/privacy}',\n",
       "  'received_events_url': 'https://api.github.com/users/sgonzalainen/received_events',\n",
       "  'type': 'User',\n",
       "  'site_admin': False},\n",
       " 'html_url': 'https://github.com/sgonzalainen/datamad1020-rev',\n",
       " 'description': None,\n",
       " 'fork': True,\n",
       " 'url': 'https://api.github.com/repos/sgonzalainen/datamad1020-rev',\n",
       " 'forks_url': 'https://api.github.com/repos/sgonzalainen/datamad1020-rev/forks',\n",
       " 'keys_url': 'https://api.github.com/repos/sgonzalainen/datamad1020-rev/keys{/key_id}',\n",
       " 'collaborators_url': 'https://api.github.com/repos/sgonzalainen/datamad1020-rev/collaborators{/collaborator}',\n",
       " 'teams_url': 'https://api.github.com/repos/sgonzalainen/datamad1020-rev/teams',\n",
       " 'hooks_url': 'https://api.github.com/repos/sgonzalainen/datamad1020-rev/hooks',\n",
       " 'issue_events_url': 'https://api.github.com/repos/sgonzalainen/datamad1020-rev/issues/events{/number}',\n",
       " 'events_url': 'https://api.github.com/repos/sgonzalainen/datamad1020-rev/events',\n",
       " 'assignees_url': 'https://api.github.com/repos/sgonzalainen/datamad1020-rev/assignees{/user}',\n",
       " 'branches_url': 'https://api.github.com/repos/sgonzalainen/datamad1020-rev/branches{/branch}',\n",
       " 'tags_url': 'https://api.github.com/repos/sgonzalainen/datamad1020-rev/tags',\n",
       " 'blobs_url': 'https://api.github.com/repos/sgonzalainen/datamad1020-rev/git/blobs{/sha}',\n",
       " 'git_tags_url': 'https://api.github.com/repos/sgonzalainen/datamad1020-rev/git/tags{/sha}',\n",
       " 'git_refs_url': 'https://api.github.com/repos/sgonzalainen/datamad1020-rev/git/refs{/sha}',\n",
       " 'trees_url': 'https://api.github.com/repos/sgonzalainen/datamad1020-rev/git/trees{/sha}',\n",
       " 'statuses_url': 'https://api.github.com/repos/sgonzalainen/datamad1020-rev/statuses/{sha}',\n",
       " 'languages_url': 'https://api.github.com/repos/sgonzalainen/datamad1020-rev/languages',\n",
       " 'stargazers_url': 'https://api.github.com/repos/sgonzalainen/datamad1020-rev/stargazers',\n",
       " 'contributors_url': 'https://api.github.com/repos/sgonzalainen/datamad1020-rev/contributors',\n",
       " 'subscribers_url': 'https://api.github.com/repos/sgonzalainen/datamad1020-rev/subscribers',\n",
       " 'subscription_url': 'https://api.github.com/repos/sgonzalainen/datamad1020-rev/subscription',\n",
       " 'commits_url': 'https://api.github.com/repos/sgonzalainen/datamad1020-rev/commits{/sha}',\n",
       " 'git_commits_url': 'https://api.github.com/repos/sgonzalainen/datamad1020-rev/git/commits{/sha}',\n",
       " 'comments_url': 'https://api.github.com/repos/sgonzalainen/datamad1020-rev/comments{/number}',\n",
       " 'issue_comment_url': 'https://api.github.com/repos/sgonzalainen/datamad1020-rev/issues/comments{/number}',\n",
       " 'contents_url': 'https://api.github.com/repos/sgonzalainen/datamad1020-rev/contents/{+path}',\n",
       " 'compare_url': 'https://api.github.com/repos/sgonzalainen/datamad1020-rev/compare/{base}...{head}',\n",
       " 'merges_url': 'https://api.github.com/repos/sgonzalainen/datamad1020-rev/merges',\n",
       " 'archive_url': 'https://api.github.com/repos/sgonzalainen/datamad1020-rev/{archive_format}{/ref}',\n",
       " 'downloads_url': 'https://api.github.com/repos/sgonzalainen/datamad1020-rev/downloads',\n",
       " 'issues_url': 'https://api.github.com/repos/sgonzalainen/datamad1020-rev/issues{/number}',\n",
       " 'pulls_url': 'https://api.github.com/repos/sgonzalainen/datamad1020-rev/pulls{/number}',\n",
       " 'milestones_url': 'https://api.github.com/repos/sgonzalainen/datamad1020-rev/milestones{/number}',\n",
       " 'notifications_url': 'https://api.github.com/repos/sgonzalainen/datamad1020-rev/notifications{?since,all,participating}',\n",
       " 'labels_url': 'https://api.github.com/repos/sgonzalainen/datamad1020-rev/labels{/name}',\n",
       " 'releases_url': 'https://api.github.com/repos/sgonzalainen/datamad1020-rev/releases{/id}',\n",
       " 'deployments_url': 'https://api.github.com/repos/sgonzalainen/datamad1020-rev/deployments',\n",
       " 'created_at': '2020-10-19T13:36:01Z',\n",
       " 'updated_at': '2020-11-29T22:29:10Z',\n",
       " 'pushed_at': '2020-12-07T15:16:35Z',\n",
       " 'git_url': 'git://github.com/sgonzalainen/datamad1020-rev.git',\n",
       " 'ssh_url': 'git@github.com:sgonzalainen/datamad1020-rev.git',\n",
       " 'clone_url': 'https://github.com/sgonzalainen/datamad1020-rev.git',\n",
       " 'svn_url': 'https://github.com/sgonzalainen/datamad1020-rev',\n",
       " 'homepage': None,\n",
       " 'size': 183449,\n",
       " 'stargazers_count': 0,\n",
       " 'watchers_count': 0,\n",
       " 'language': 'Jupyter Notebook',\n",
       " 'has_issues': False,\n",
       " 'has_projects': True,\n",
       " 'has_downloads': True,\n",
       " 'has_wiki': True,\n",
       " 'has_pages': False,\n",
       " 'forks_count': 0,\n",
       " 'mirror_url': None,\n",
       " 'archived': False,\n",
       " 'disabled': False,\n",
       " 'open_issues_count': 0,\n",
       " 'license': {'key': 'agpl-3.0',\n",
       "  'name': 'GNU Affero General Public License v3.0',\n",
       "  'spdx_id': 'AGPL-3.0',\n",
       "  'url': 'https://api.github.com/licenses/agpl-3.0',\n",
       "  'node_id': 'MDc6TGljZW5zZTE='},\n",
       " 'forks': 0,\n",
       " 'open_issues': 0,\n",
       " 'watchers': 0,\n",
       " 'default_branch': 'master'}"
      ]
     },
     "execution_count": 17,
     "metadata": {},
     "output_type": "execute_result"
    }
   ],
   "source": [
    "respuesta = requestforks(url_forks)\n",
    "respuesta[15]"
   ]
  },
  {
   "cell_type": "code",
   "execution_count": 18,
   "metadata": {},
   "outputs": [
    {
     "data": {
      "text/plain": [
       "'Jupyter Notebook'"
      ]
     },
     "execution_count": 18,
     "metadata": {},
     "output_type": "execute_result"
    }
   ],
   "source": [
    "respuesta[15]['language']"
   ]
  },
  {
   "cell_type": "code",
   "execution_count": 19,
   "metadata": {},
   "outputs": [
    {
     "data": {
      "text/plain": [
       "(None, 23)"
      ]
     },
     "execution_count": 19,
     "metadata": {},
     "output_type": "execute_result"
    }
   ],
   "source": [
    "respuesta[0]['language'], len(respuesta)"
   ]
  },
  {
   "cell_type": "code",
   "execution_count": 20,
   "metadata": {},
   "outputs": [
    {
     "name": "stdout",
     "output_type": "stream",
     "text": [
      "[None, None, None, 'Jupyter Notebook', 'Jupyter Notebook', 'Jupyter Notebook', 'Jupyter Notebook', 'Jupyter Notebook', 'Jupyter Notebook', 'Jupyter Notebook', 'Jupyter Notebook', 'Jupyter Notebook', 'Jupyter Notebook', 'Jupyter Notebook', 'Jupyter Notebook', 'Jupyter Notebook', 'Jupyter Notebook', 'Jupyter Notebook', 'Jupyter Notebook', 'Jupyter Notebook', 'Jupyter Notebook', 'Jupyter Notebook', 'Jupyter Notebook']\n"
     ]
    }
   ],
   "source": [
    "languages = [language['language'] for language in respuesta]\n",
    "print (languages)"
   ]
  },
  {
   "cell_type": "code",
   "execution_count": 22,
   "metadata": {},
   "outputs": [
    {
     "data": {
      "text/plain": [
       "{'Jupyter Notebook', None}"
      ]
     },
     "execution_count": 22,
     "metadata": {},
     "output_type": "execute_result"
    }
   ],
   "source": [
    "set(languages)"
   ]
  },
  {
   "cell_type": "code",
   "execution_count": null,
   "metadata": {},
   "outputs": [],
   "source": []
  }
 ],
 "metadata": {
  "kernelspec": {
   "display_name": "Python 3",
   "language": "python",
   "name": "python3"
  },
  "language_info": {
   "codemirror_mode": {
    "name": "ipython",
    "version": 3
   },
   "file_extension": ".py",
   "mimetype": "text/x-python",
   "name": "python",
   "nbconvert_exporter": "python",
   "pygments_lexer": "ipython3",
   "version": "3.8.5"
  }
 },
 "nbformat": 4,
 "nbformat_minor": 4
}
