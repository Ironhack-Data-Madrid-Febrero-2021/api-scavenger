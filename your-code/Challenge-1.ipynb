{
 "cells": [
  {
   "cell_type": "code",
   "execution_count": 3,
   "metadata": {},
   "outputs": [
    {
     "data": {
      "text/plain": [
       "True"
      ]
     },
     "execution_count": 3,
     "metadata": {},
     "output_type": "execute_result"
    }
   ],
   "source": [
    "import requests\n",
    "import os\n",
    "from dotenv import load_dotenv\n",
    "load_dotenv()"
   ]
  },
  {
   "cell_type": "code",
   "execution_count": 4,
   "metadata": {},
   "outputs": [],
   "source": [
    "# Geting token from .env saved in Visual Code\n",
    "token = os.getenv('token')\n",
    "\n",
    "# Setting parameters\n",
    "parameters = {'Autorization' : f'token {token}'}"
   ]
  },
  {
   "cell_type": "code",
   "execution_count": 7,
   "metadata": {},
   "outputs": [
    {
     "data": {
      "text/plain": [
       "['acamposla/datamad1020-rev',\n",
       " 'PaolaKarina/datamad1020-rev',\n",
       " 'VictorRodriguezIronhack/datamad1020-rev',\n",
       " 'sonia-quintanar/datamad1020-rev',\n",
       " 'jperezllorente/datamad1020-rev',\n",
       " 'AnaMA96/datamad1020-rev',\n",
       " 'breogann/datamad1020-rev',\n",
       " 'rafadedubra/datamad1020-rev',\n",
       " 'Nuria-Pe/datamad1020-rev',\n",
       " 'SergioCaler0/datamad1020-rev',\n",
       " 'LucianaLescano/datamad1020-rev',\n",
       " 'Mario-Sainz/datamad1020-rev',\n",
       " 'juanmarin00/datamad1020-rev',\n",
       " 'JoseManuel-G/datamad1020-rev',\n",
       " 'jesus-perez-366/datamad1020-rev',\n",
       " 'sgonzalainen/datamad1020-rev',\n",
       " 'Pptrv/datamad1020-rev',\n",
       " 'Marxess/datamad1020-rev',\n",
       " 'patri-carrasco/datamad1020-rev',\n",
       " 'BlueJotas/datamad1020-rev',\n",
       " 'jvazquezgalvezlp/datamad1020-rev',\n",
       " 'leticia-sobrino/datamad1020-rev',\n",
       " 'JaimeCalcedo/datamad1020-rev']"
      ]
     },
     "execution_count": 7,
     "metadata": {},
     "output_type": "execute_result"
    }
   ],
   "source": [
    "# CHALLENGE 1: Fork languages\n",
    "# 1.1 \n",
    "# Obtain the full list of forks created from the main lab repo via Github API.\n",
    "url = 'https://api.github.com/repos/ironhack-datalabs/datamad1020-rev/forks'\n",
    "response = requests.get(url = url, params = parameters).json()\n",
    "names = [elemento['full_name'] for elemento in response]\n",
    "names"
   ]
  },
  {
   "cell_type": "code",
   "execution_count": 9,
   "metadata": {},
   "outputs": [
    {
     "data": {
      "text/plain": [
       "['Jupyter Notebook', 'HTML', 'Python']"
      ]
     },
     "execution_count": 9,
     "metadata": {},
     "output_type": "execute_result"
    }
   ],
   "source": [
    "# 1.2 and 1.3\n",
    "# Loop the JSON response to find out the language attribute of each fork. Use an array to store the language attributes of each fork.\n",
    "url1 = 'https://api.github.com/repos/ironhack-datalabs/datamad1020-rev/languages'\n",
    "response_1 = requests.get(url = url1, params = parameters).json()\n",
    "languages = [k for k in response_1]\n",
    "languages"
   ]
  }
 ],
 "metadata": {
  "kernelspec": {
   "display_name": "Python 3",
   "language": "python",
   "name": "python3"
  },
  "language_info": {
   "codemirror_mode": {
    "name": "ipython",
    "version": 3
   },
   "file_extension": ".py",
   "mimetype": "text/x-python",
   "name": "python",
   "nbconvert_exporter": "python",
   "pygments_lexer": "ipython3",
   "version": "3.6.3"
  }
 },
 "nbformat": 4,
 "nbformat_minor": 4
}
