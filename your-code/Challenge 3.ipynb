{
 "cells": [
  {
   "cell_type": "code",
   "execution_count": 36,
   "metadata": {},
   "outputs": [
    {
     "data": {
      "text/plain": [
       "True"
      ]
     },
     "execution_count": 36,
     "metadata": {},
     "output_type": "execute_result"
    }
   ],
   "source": [
    "import requests\n",
    "import os\n",
    "from dotenv import load_dotenv\n",
    "load_dotenv()\n"
   ]
  },
  {
   "cell_type": "code",
   "execution_count": 37,
   "metadata": {},
   "outputs": [],
   "source": [
    "api_key = os.getenv(\"token\")"
   ]
  },
  {
   "cell_type": "code",
   "execution_count": 38,
   "metadata": {},
   "outputs": [],
   "source": [
    "parameters = {\"Auhorization\" : f\"token {api_key}\"}"
   ]
  },
  {
   "cell_type": "markdown",
   "metadata": {},
   "source": [
    "URL =   /repos/     {owner}/      {repo}/       commits\n",
    "\n",
    "/repos/ =   api.github.com/repos\n",
    "\n",
    "{owner}/ =   ironhack-datalabs/\n",
    "\n",
    "scavenger"
   ]
  },
  {
   "cell_type": "code",
   "execution_count": 39,
   "metadata": {},
   "outputs": [],
   "source": [
    "url = \"https://api.github.com/repos/ironhack-datalabs/scavenger/contents\""
   ]
  },
  {
   "cell_type": "code",
   "execution_count": 40,
   "metadata": {},
   "outputs": [],
   "source": [
    "def request(url):\n",
    "    token = os.getenv('token')\n",
    "    if not token:\n",
    "        raise ValueError ('Necesitas un token')\n",
    "    print (f'Haciendo request a {url}')\n",
    "    \n",
    "    params = {'Authorization' : f'token {api_key}'}\n",
    "    response = requests.get( url = url, params = params).json()\n",
    "    \n",
    "    return response"
   ]
  },
  {
   "cell_type": "code",
   "execution_count": 51,
   "metadata": {},
   "outputs": [
    {
     "name": "stdout",
     "output_type": "stream",
     "text": [
      "Haciendo request a https://api.github.com/repos/ironhack-datalabs/scavenger/contents\n"
     ]
    },
    {
     "data": {
      "text/plain": [
       "(list, 26)"
      ]
     },
     "execution_count": 51,
     "metadata": {},
     "output_type": "execute_result"
    }
   ],
   "source": [
    "respuesta = request(url)\n",
    "type(respuesta), len(respuesta)"
   ]
  },
  {
   "cell_type": "code",
   "execution_count": 136,
   "metadata": {},
   "outputs": [
    {
     "data": {
      "text/plain": [
       "{'name': '15024',\n",
       " 'path': '15024',\n",
       " 'sha': '2945e51c87ad5da893c954afcf092f06343bbb7d',\n",
       " 'size': 0,\n",
       " 'url': 'https://api.github.com/repos/ironhack-datalabs/scavenger/contents/15024?ref=master',\n",
       " 'html_url': 'https://github.com/ironhack-datalabs/scavenger/tree/master/15024',\n",
       " 'git_url': 'https://api.github.com/repos/ironhack-datalabs/scavenger/git/trees/2945e51c87ad5da893c954afcf092f06343bbb7d',\n",
       " 'download_url': None,\n",
       " 'type': 'dir',\n",
       " '_links': {'self': 'https://api.github.com/repos/ironhack-datalabs/scavenger/contents/15024?ref=master',\n",
       "  'git': 'https://api.github.com/repos/ironhack-datalabs/scavenger/git/trees/2945e51c87ad5da893c954afcf092f06343bbb7d',\n",
       "  'html': 'https://github.com/ironhack-datalabs/scavenger/tree/master/15024'}}"
      ]
     },
     "execution_count": 136,
     "metadata": {},
     "output_type": "execute_result"
    }
   ],
   "source": [
    "respuesta[1]"
   ]
  },
  {
   "cell_type": "code",
   "execution_count": 52,
   "metadata": {},
   "outputs": [
    {
     "data": {
      "text/plain": [
       "'https://github.com/ironhack-datalabs/scavenger/tree/master/15024'"
      ]
     },
     "execution_count": 52,
     "metadata": {},
     "output_type": "execute_result"
    }
   ],
   "source": [
    "respuesta [1]['html_url']"
   ]
  },
  {
   "cell_type": "code",
   "execution_count": 53,
   "metadata": {},
   "outputs": [],
   "source": [
    "respuesta_file = [n['html_url'] for n in respuesta]"
   ]
  },
  {
   "cell_type": "code",
   "execution_count": 54,
   "metadata": {},
   "outputs": [
    {
     "data": {
      "text/plain": [
       "['https://github.com/ironhack-datalabs/scavenger/blob/master/.gitignore',\n",
       " 'https://github.com/ironhack-datalabs/scavenger/tree/master/15024',\n",
       " 'https://github.com/ironhack-datalabs/scavenger/tree/master/15534',\n",
       " 'https://github.com/ironhack-datalabs/scavenger/tree/master/17020',\n",
       " 'https://github.com/ironhack-datalabs/scavenger/tree/master/30351',\n",
       " 'https://github.com/ironhack-datalabs/scavenger/tree/master/40303',\n",
       " 'https://github.com/ironhack-datalabs/scavenger/tree/master/44639',\n",
       " 'https://github.com/ironhack-datalabs/scavenger/tree/master/45525',\n",
       " 'https://github.com/ironhack-datalabs/scavenger/tree/master/47222',\n",
       " 'https://github.com/ironhack-datalabs/scavenger/tree/master/47830',\n",
       " 'https://github.com/ironhack-datalabs/scavenger/tree/master/49418',\n",
       " 'https://github.com/ironhack-datalabs/scavenger/tree/master/50896',\n",
       " 'https://github.com/ironhack-datalabs/scavenger/tree/master/55417',\n",
       " 'https://github.com/ironhack-datalabs/scavenger/tree/master/55685',\n",
       " 'https://github.com/ironhack-datalabs/scavenger/tree/master/60224',\n",
       " 'https://github.com/ironhack-datalabs/scavenger/tree/master/64880',\n",
       " 'https://github.com/ironhack-datalabs/scavenger/tree/master/66032',\n",
       " 'https://github.com/ironhack-datalabs/scavenger/tree/master/68848',\n",
       " 'https://github.com/ironhack-datalabs/scavenger/tree/master/70751',\n",
       " 'https://github.com/ironhack-datalabs/scavenger/tree/master/70985',\n",
       " 'https://github.com/ironhack-datalabs/scavenger/tree/master/88596',\n",
       " 'https://github.com/ironhack-datalabs/scavenger/tree/master/89046',\n",
       " 'https://github.com/ironhack-datalabs/scavenger/tree/master/89338',\n",
       " 'https://github.com/ironhack-datalabs/scavenger/tree/master/91701',\n",
       " 'https://github.com/ironhack-datalabs/scavenger/tree/master/97881',\n",
       " 'https://github.com/ironhack-datalabs/scavenger/tree/master/98750']"
      ]
     },
     "execution_count": 54,
     "metadata": {},
     "output_type": "execute_result"
    }
   ],
   "source": [
    "respuesta_file"
   ]
  },
  {
   "cell_type": "code",
   "execution_count": 146,
   "metadata": {},
   "outputs": [],
   "source": [
    "respu = requests.get('https://github.com/ironhack-datalabs/scavenger/tree/master/15024')"
   ]
  },
  {
   "cell_type": "code",
   "execution_count": 147,
   "metadata": {},
   "outputs": [
    {
     "data": {
      "text/plain": [
       "<bound method Response.json of <Response [200]>>"
      ]
     },
     "execution_count": 147,
     "metadata": {},
     "output_type": "execute_result"
    }
   ],
   "source": [
    "respu.json"
   ]
  },
  {
   "cell_type": "code",
   "execution_count": 148,
   "metadata": {},
   "outputs": [
    {
     "data": {
      "text/plain": [
       "<Response [200]>"
      ]
     },
     "execution_count": 148,
     "metadata": {},
     "output_type": "execute_result"
    }
   ],
   "source": [
    "respu"
   ]
  },
  {
   "cell_type": "code",
   "execution_count": null,
   "metadata": {},
   "outputs": [],
   "source": []
  },
  {
   "cell_type": "code",
   "execution_count": null,
   "metadata": {},
   "outputs": [],
   "source": []
  }
 ],
 "metadata": {
  "kernelspec": {
   "display_name": "Python 3",
   "language": "python",
   "name": "python3"
  },
  "language_info": {
   "codemirror_mode": {
    "name": "ipython",
    "version": 3
   },
   "file_extension": ".py",
   "mimetype": "text/x-python",
   "name": "python",
   "nbconvert_exporter": "python",
   "pygments_lexer": "ipython3",
   "version": "3.8.5"
  }
 },
 "nbformat": 4,
 "nbformat_minor": 4
}
